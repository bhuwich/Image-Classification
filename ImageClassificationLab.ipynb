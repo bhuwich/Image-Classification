{
  "nbformat": 4,
  "nbformat_minor": 0,
  "metadata": {
    "colab": {
      "provenance": [],
      "authorship_tag": "ABX9TyO8QDjEw5lc7pyrsTije56f",
      "include_colab_link": true
    },
    "kernelspec": {
      "name": "python3",
      "display_name": "Python 3"
    },
    "language_info": {
      "name": "python"
    },
    "accelerator": "GPU",
    "gpuClass": "standard"
  },
  "cells": [
    {
      "cell_type": "markdown",
      "metadata": {
        "id": "view-in-github",
        "colab_type": "text"
      },
      "source": [
        "<a href=\"https://colab.research.google.com/github/bhuwich/Image-Classification/blob/main/ImageClassificationLab.ipynb\" target=\"_parent\"><img src=\"https://colab.research.google.com/assets/colab-badge.svg\" alt=\"Open In Colab\"/></a>"
      ]
    },
    {
      "cell_type": "code",
      "execution_count": null,
      "metadata": {
        "colab": {
          "base_uri": "https://localhost:8080/"
        },
        "id": "7pI_kpNdnTER",
        "outputId": "331d2701-8550-402b-b16b-d5751b00bbb1"
      },
      "outputs": [
        {
          "output_type": "stream",
          "name": "stdout",
          "text": [
            "2.9.2\n"
          ]
        }
      ],
      "source": [
        "import tensorflow as tf\n",
        "import matplotlib.pyplot as plt\n",
        "import numpy as np\n",
        "from tensorflow.keras.callbacks import EarlyStopping, ModelCheckpoint\n",
        "print(tf.__version__)"
      ]
    },
    {
      "cell_type": "code",
      "source": [],
      "metadata": {
        "id": "zXXD6pJPrFVz"
      },
      "execution_count": null,
      "outputs": []
    },
    {
      "cell_type": "code",
      "source": [],
      "metadata": {
        "id": "1SfbXUgPqc5O"
      },
      "execution_count": null,
      "outputs": []
    },
    {
      "cell_type": "code",
      "source": [
        "# load data\n",
        "(train_images, train_labels), (test_images, test_labels) = tf.keras.datasets.fashion_mnist.load_data()"
      ],
      "metadata": {
        "id": "4IJ9PP2ooZzm"
      },
      "execution_count": null,
      "outputs": []
    },
    {
      "cell_type": "code",
      "source": [
        "print(f\"shape train_images = {train_images.shape}\")\n",
        "print(f\"shape train_images = {train_labels.shape}\")\n",
        "print(f\"shape test_images = {test_images.shape}\")\n",
        "print(f\"shape test_images = {test_labels.shape}\")"
      ],
      "metadata": {
        "colab": {
          "base_uri": "https://localhost:8080/"
        },
        "id": "gOmdaodwpM3X",
        "outputId": "ad3b241b-a0ad-4939-9483-245914349841"
      },
      "execution_count": null,
      "outputs": [
        {
          "output_type": "stream",
          "name": "stdout",
          "text": [
            "shape train_images = (60000, 28, 28)\n",
            "shape train_images = (60000,)\n",
            "shape test_images = (10000, 28, 28)\n",
            "shape test_images = (10000,)\n"
          ]
        }
      ]
    },
    {
      "cell_type": "code",
      "source": [
        "plt.imshow(train_images[0, :, :],cmap='gray')"
      ],
      "metadata": {
        "colab": {
          "base_uri": "https://localhost:8080/",
          "height": 282
        },
        "id": "ty58WD6OqIEp",
        "outputId": "bf3bbe82-c8db-407c-cc65-a0fe305a469e"
      },
      "execution_count": null,
      "outputs": [
        {
          "output_type": "execute_result",
          "data": {
            "text/plain": [
              "<matplotlib.image.AxesImage at 0x7ff762bd65b0>"
            ]
          },
          "metadata": {},
          "execution_count": 4
        },
        {
          "output_type": "display_data",
          "data": {
            "text/plain": [
              "<Figure size 432x288 with 1 Axes>"
            ],
            "image/png": "[encoded data removed]"
          },
          "metadata": {
            "needs_background": "light"
          }
        }
      ]
    },
    {
      "cell_type": "code",
      "source": [
        "[np.min(train_images[0, :, :]), np.max(train_images[0, :, :])]"
      ],
      "metadata": {
        "colab": {
          "base_uri": "https://localhost:8080/"
        },
        "id": "gWAH8GHZquUj",
        "outputId": "7a47b94b-1395-454e-ae10-bde29f6d42d8"
      },
      "execution_count": null,
      "outputs": [
        {
          "output_type": "execute_result",
          "data": {
            "text/plain": [
              "[0, 255]"
            ]
          },
          "metadata": {},
          "execution_count": 5
        }
      ]
    },
    {
      "cell_type": "code",
      "source": [
        "np.unique(train_labels)"
      ],
      "metadata": {
        "colab": {
          "base_uri": "https://localhost:8080/"
        },
        "id": "4_KDPZOcqEnR",
        "outputId": "1a0a7879-294d-4094-8b5f-cc7acf35a8b2"
      },
      "execution_count": null,
      "outputs": [
        {
          "output_type": "execute_result",
          "data": {
            "text/plain": [
              "array([0, 1, 2, 3, 4, 5, 6, 7, 8, 9], dtype=uint8)"
            ]
          },
          "metadata": {},
          "execution_count": 6
        }
      ]
    },
    {
      "cell_type": "code",
      "source": [
        "class_names = ['T-shirt/top', 'Trouser', 'Pullover', 'Dress', 'Coat', 'Sandal', 'Shirt', 'Sneaker', 'Bag', 'Ankle boot']"
      ],
      "metadata": {
        "id": "kGQ94TTMrkLH"
      },
      "execution_count": null,
      "outputs": []
    },
    {
      "cell_type": "code",
      "source": [
        "# แบ่ง validation data แบบสุ่ม\n",
        "val_ratio = 0.3\n",
        "n_all = len(train_labels)\n",
        "n_val = int(val_ratio*n_all)\n",
        "n_train = n_all - n_val\n",
        "print(f\"n_train = {n_train}, n_val = {n_val}\")"
      ],
      "metadata": {
        "colab": {
          "base_uri": "https://localhost:8080/"
        },
        "id": "jMCV76ejoUir",
        "outputId": "6d65d01d-3ae3-4f64-e8c9-a27b0062c0b5"
      },
      "execution_count": null,
      "outputs": [
        {
          "output_type": "stream",
          "name": "stdout",
          "text": [
            "n_train = 42000, n_val = 18000\n"
          ]
        }
      ]
    },
    {
      "cell_type": "code",
      "source": [
        "# shuffle data\n",
        "shuf_ind = np.random.permutation(len(train_labels))\n",
        "train_images = train_images[shuf_ind, :, :]\n",
        "train_labels = train_labels[shuf_ind]"
      ],
      "metadata": {
        "id": "J8D8cGPdst-b"
      },
      "execution_count": null,
      "outputs": []
    },
    {
      "cell_type": "code",
      "source": [
        "val_images = train_images[:n_val, :, :]\n",
        "val_labels = train_labels[:n_val]\n",
        "trainw_images= train_images[n_val:, :, :]\n",
        "trainw_labels = train_labels[n_val:]\n",
        "print(trainw_images.shape, trainw_labels.shape)\n",
        "print(val_images.shape, val_labels.shape)"
      ],
      "metadata": {
        "colab": {
          "base_uri": "https://localhost:8080/"
        },
        "id": "r1aDcIxVt8us",
        "outputId": "867d4b9a-ae1d-4861-afa1-a7c29a3c3f72"
      },
      "execution_count": null,
      "outputs": [
        {
          "output_type": "stream",
          "name": "stdout",
          "text": [
            "(42000, 28, 28) (42000,)\n",
            "(18000, 28, 28) (18000,)\n"
          ]
        }
      ]
    },
    {
      "cell_type": "code",
      "source": [
        "# preprocess\n",
        "trainw_images = trainw_images/255.0\n",
        "val_images = val_images/255.0\n",
        "test_images = test_images/255.0\n",
        "# ทำให้ค่าอยู่ระหว่าง ช่วง 0-1เพื่อให้ weight gradient descent ปรับได้ง่าย"
      ],
      "metadata": {
        "id": "8ac_a205vaCb"
      },
      "execution_count": null,
      "outputs": []
    },
    {
      "cell_type": "code",
      "source": [
        "[np.min(trainw_images), np.max(trainw_images)]"
      ],
      "metadata": {
        "colab": {
          "base_uri": "https://localhost:8080/"
        },
        "id": "7OgRHdCjw-8n",
        "outputId": "0ffe5631-b1f8-43a2-eebb-194cddfab183"
      },
      "execution_count": null,
      "outputs": [
        {
          "output_type": "execute_result",
          "data": {
            "text/plain": [
              "[0.0, 1.0]"
            ]
          },
          "metadata": {},
          "execution_count": 12
        }
      ]
    },
    {
      "cell_type": "code",
      "source": [
        "# สร้าง model\n",
        "model = tf.keras.Sequential([\n",
        "    tf.keras.layers.Flatten(input_shape=(28,28)),\n",
        "    tf.keras.layers.Dense(128, activation='tanh'),\n",
        "    tf.keras.layers.Dense(10, activation='softmax')\n",
        "])\n"
      ],
      "metadata": {
        "id": "D_6HkPvqxRzZ"
      },
      "execution_count": null,
      "outputs": []
    },
    {
      "cell_type": "code",
      "source": [
        "model.compile(optimizer='adam', loss=tf.keras.losses.SparseCategoricalCrossentropy(from_logits=True),\n",
        "                metrics=['accuracy'])\n",
        "es = EarlyStopping(monitor='val_loss', mode='min', patience=10,verbose=1)\n",
        "mc = ModelCheckpoint(\"best_model.h5\",monitor='val_loss',mode ='min', save_best_only=True, verbose=1)"
      ],
      "metadata": {
        "id": "tV5rVkImyGTt"
      },
      "execution_count": null,
      "outputs": []
    },
    {
      "cell_type": "code",
      "source": [
        "# train model\n",
        "model.fit(trainw_images, trainw_labels, epochs=1000, validation_data=(val_images, val_labels), callbacks= [es, mc])"
      ],
      "metadata": {
        "colab": {
          "base_uri": "https://localhost:8080/"
        },
        "id": "0BRh2hn6z1rH",
        "outputId": "41458339-180c-4c5f-a25b-17a5f7e6322c"
      },
      "execution_count": null,
      "outputs": [
        {
          "output_type": "stream",
          "name": "stdout",
          "text": [
            "Epoch 1/1000\n"
          ]
        },
        {
          "output_type": "stream",
          "name": "stderr",
          "text": [
            "/usr/local/lib/python3.8/dist-packages/tensorflow/python/util/dispatch.py:1082: UserWarning: \"`sparse_categorical_crossentropy` received `from_logits=True`, but the `output` argument was produced by a sigmoid or softmax activation and thus does not represent logits. Was this intended?\"\n",
            "  return dispatch_target(*args, **kwargs)\n"
          ]
        },
        {
          "output_type": "stream",
          "name": "stdout",
          "text": [
            "1307/1313 [============================>.] - ETA: 0s - loss: 0.5067 - accuracy: 0.8175\n",
            "Epoch 1: val_loss improved from inf to 0.40218, saving model to best_model.h5\n",
            "1313/1313 [==============================] - 5s 4ms/step - loss: 0.5062 - accuracy: 0.8177 - val_loss: 0.4022 - val_accuracy: 0.8558\n",
            "Epoch 2/1000\n",
            "1302/1313 [============================>.] - ETA: 0s - loss: 0.3865 - accuracy: 0.8607\n",
            "Epoch 2: val_loss improved from 0.40218 to 0.37113, saving model to best_model.h5\n",
            "1313/1313 [==============================] - 5s 4ms/step - loss: 0.3866 - accuracy: 0.8606 - val_loss: 0.3711 - val_accuracy: 0.8673\n",
            "Epoch 3/1000\n",
            "1296/1313 [============================>.] - ETA: 0s - loss: 0.3490 - accuracy: 0.8730\n",
            "Epoch 3: val_loss improved from 0.37113 to 0.34498, saving model to best_model.h5\n",
            "1313/1313 [==============================] - 5s 4ms/step - loss: 0.3496 - accuracy: 0.8727 - val_loss: 0.3450 - val_accuracy: 0.8753\n",
            "Epoch 4/1000\n",
            "1304/1313 [============================>.] - ETA: 0s - loss: 0.3253 - accuracy: 0.8799\n",
            "Epoch 4: val_loss improved from 0.34498 to 0.33615, saving model to best_model.h5\n",
            "1313/1313 [==============================] - 5s 4ms/step - loss: 0.3261 - accuracy: 0.8796 - val_loss: 0.3361 - val_accuracy: 0.8806\n",
            "Epoch 5/1000\n",
            "1313/1313 [==============================] - ETA: 0s - loss: 0.3062 - accuracy: 0.8868\n",
            "Epoch 5: val_loss did not improve from 0.33615\n",
            "1313/1313 [==============================] - 5s 4ms/step - loss: 0.3062 - accuracy: 0.8868 - val_loss: 0.3484 - val_accuracy: 0.8715\n",
            "Epoch 6/1000\n",
            "1304/1313 [============================>.] - ETA: 0s - loss: 0.2909 - accuracy: 0.8925\n",
            "Epoch 6: val_loss did not improve from 0.33615\n",
            "1313/1313 [==============================] - 5s 3ms/step - loss: 0.2910 - accuracy: 0.8925 - val_loss: 0.3617 - val_accuracy: 0.8617\n",
            "Epoch 7/1000\n",
            "1308/1313 [============================>.] - ETA: 0s - loss: 0.2760 - accuracy: 0.8977\n",
            "Epoch 7: val_loss improved from 0.33615 to 0.32350, saving model to best_model.h5\n",
            "1313/1313 [==============================] - 5s 3ms/step - loss: 0.2761 - accuracy: 0.8976 - val_loss: 0.3235 - val_accuracy: 0.8806\n",
            "Epoch 8/1000\n",
            "1298/1313 [============================>.] - ETA: 0s - loss: 0.2673 - accuracy: 0.9012\n",
            "Epoch 8: val_loss improved from 0.32350 to 0.31370, saving model to best_model.h5\n",
            "1313/1313 [==============================] - 5s 3ms/step - loss: 0.2668 - accuracy: 0.9015 - val_loss: 0.3137 - val_accuracy: 0.8856\n",
            "Epoch 9/1000\n",
            "1304/1313 [============================>.] - ETA: 0s - loss: 0.2558 - accuracy: 0.9052\n",
            "Epoch 9: val_loss did not improve from 0.31370\n",
            "1313/1313 [==============================] - 6s 5ms/step - loss: 0.2560 - accuracy: 0.9051 - val_loss: 0.3225 - val_accuracy: 0.8843\n",
            "Epoch 10/1000\n",
            "1302/1313 [============================>.] - ETA: 0s - loss: 0.2457 - accuracy: 0.9081\n",
            "Epoch 10: val_loss did not improve from 0.31370\n",
            "1313/1313 [==============================] - 5s 4ms/step - loss: 0.2462 - accuracy: 0.9079 - val_loss: 0.3147 - val_accuracy: 0.8864\n",
            "Epoch 11/1000\n",
            "1295/1313 [============================>.] - ETA: 0s - loss: 0.2367 - accuracy: 0.9129\n",
            "Epoch 11: val_loss improved from 0.31370 to 0.31341, saving model to best_model.h5\n",
            "1313/1313 [==============================] - 5s 4ms/step - loss: 0.2365 - accuracy: 0.9128 - val_loss: 0.3134 - val_accuracy: 0.8876\n",
            "Epoch 12/1000\n",
            "1310/1313 [============================>.] - ETA: 0s - loss: 0.2294 - accuracy: 0.9155\n",
            "Epoch 12: val_loss did not improve from 0.31341\n",
            "1313/1313 [==============================] - 5s 4ms/step - loss: 0.2295 - accuracy: 0.9154 - val_loss: 0.3291 - val_accuracy: 0.8816\n",
            "Epoch 13/1000\n",
            "1308/1313 [============================>.] - ETA: 0s - loss: 0.2211 - accuracy: 0.9187\n",
            "Epoch 13: val_loss did not improve from 0.31341\n",
            "1313/1313 [==============================] - 5s 4ms/step - loss: 0.2208 - accuracy: 0.9188 - val_loss: 0.3294 - val_accuracy: 0.8829\n",
            "Epoch 14/1000\n",
            "1308/1313 [============================>.] - ETA: 0s - loss: 0.2148 - accuracy: 0.9211\n",
            "Epoch 14: val_loss improved from 0.31341 to 0.30750, saving model to best_model.h5\n",
            "1313/1313 [==============================] - 5s 4ms/step - loss: 0.2149 - accuracy: 0.9210 - val_loss: 0.3075 - val_accuracy: 0.8912\n",
            "Epoch 15/1000\n",
            "1299/1313 [============================>.] - ETA: 0s - loss: 0.2062 - accuracy: 0.9239\n",
            "Epoch 15: val_loss did not improve from 0.30750\n",
            "1313/1313 [==============================] - 5s 3ms/step - loss: 0.2061 - accuracy: 0.9240 - val_loss: 0.3081 - val_accuracy: 0.8906\n",
            "Epoch 16/1000\n",
            "1300/1313 [============================>.] - ETA: 0s - loss: 0.2027 - accuracy: 0.9251\n",
            "Epoch 16: val_loss improved from 0.30750 to 0.30305, saving model to best_model.h5\n",
            "1313/1313 [==============================] - 5s 3ms/step - loss: 0.2028 - accuracy: 0.9253 - val_loss: 0.3030 - val_accuracy: 0.8921\n",
            "Epoch 17/1000\n",
            "1302/1313 [============================>.] - ETA: 0s - loss: 0.1991 - accuracy: 0.9255\n",
            "Epoch 17: val_loss did not improve from 0.30305\n",
            "1313/1313 [==============================] - 5s 3ms/step - loss: 0.1989 - accuracy: 0.9256 - val_loss: 0.3262 - val_accuracy: 0.8870\n",
            "Epoch 18/1000\n",
            "1295/1313 [============================>.] - ETA: 0s - loss: 0.1926 - accuracy: 0.9284\n",
            "Epoch 18: val_loss did not improve from 0.30305\n",
            "1313/1313 [==============================] - 5s 4ms/step - loss: 0.1925 - accuracy: 0.9284 - val_loss: 0.3251 - val_accuracy: 0.8846\n",
            "Epoch 19/1000\n",
            "1311/1313 [============================>.] - ETA: 0s - loss: 0.1881 - accuracy: 0.9298\n",
            "Epoch 19: val_loss did not improve from 0.30305\n",
            "1313/1313 [==============================] - 4s 3ms/step - loss: 0.1881 - accuracy: 0.9298 - val_loss: 0.3245 - val_accuracy: 0.8857\n",
            "Epoch 20/1000\n",
            "1296/1313 [============================>.] - ETA: 0s - loss: 0.1801 - accuracy: 0.9329\n",
            "Epoch 20: val_loss did not improve from 0.30305\n",
            "1313/1313 [==============================] - 5s 4ms/step - loss: 0.1805 - accuracy: 0.9327 - val_loss: 0.3233 - val_accuracy: 0.8861\n",
            "Epoch 21/1000\n",
            "1312/1313 [============================>.] - ETA: 0s - loss: 0.1774 - accuracy: 0.9343\n",
            "Epoch 21: val_loss did not improve from 0.30305\n",
            "1313/1313 [==============================] - 5s 4ms/step - loss: 0.1774 - accuracy: 0.9343 - val_loss: 0.3312 - val_accuracy: 0.8844\n",
            "Epoch 22/1000\n",
            "1300/1313 [============================>.] - ETA: 0s - loss: 0.1741 - accuracy: 0.9347\n",
            "Epoch 22: val_loss did not improve from 0.30305\n",
            "1313/1313 [==============================] - 5s 4ms/step - loss: 0.1740 - accuracy: 0.9346 - val_loss: 0.3181 - val_accuracy: 0.8897\n",
            "Epoch 23/1000\n",
            "1312/1313 [============================>.] - ETA: 0s - loss: 0.1698 - accuracy: 0.9364\n",
            "Epoch 23: val_loss did not improve from 0.30305\n",
            "1313/1313 [==============================] - 5s 4ms/step - loss: 0.1697 - accuracy: 0.9365 - val_loss: 0.3237 - val_accuracy: 0.8880\n",
            "Epoch 24/1000\n",
            "1312/1313 [============================>.] - ETA: 0s - loss: 0.1632 - accuracy: 0.9399\n",
            "Epoch 24: val_loss did not improve from 0.30305\n",
            "1313/1313 [==============================] - 5s 4ms/step - loss: 0.1632 - accuracy: 0.9399 - val_loss: 0.3234 - val_accuracy: 0.8917\n",
            "Epoch 25/1000\n",
            "1304/1313 [============================>.] - ETA: 0s - loss: 0.1608 - accuracy: 0.9406\n",
            "Epoch 25: val_loss did not improve from 0.30305\n",
            "1313/1313 [==============================] - 5s 4ms/step - loss: 0.1611 - accuracy: 0.9405 - val_loss: 0.3301 - val_accuracy: 0.8867\n",
            "Epoch 26/1000\n",
            "1296/1313 [============================>.] - ETA: 0s - loss: 0.1593 - accuracy: 0.9412\n",
            "Epoch 26: val_loss did not improve from 0.30305\n",
            "1313/1313 [==============================] - 5s 4ms/step - loss: 0.1600 - accuracy: 0.9410 - val_loss: 0.3276 - val_accuracy: 0.8874\n",
            "Epoch 26: early stopping\n"
          ]
        },
        {
          "output_type": "execute_result",
          "data": {
            "text/plain": [
              "<keras.callbacks.History at 0x7ff6da16da30>"
            ]
          },
          "metadata": {},
          "execution_count": 45
        }
      ]
    },
    {
      "cell_type": "code",
      "source": [
        "# evaluation\n",
        "# - confusion matrix ทั้ง 10 ตลาด\n",
        "# - accuracy รวม\n",
        "# - recall, precision, f1-score ของทั้ง 10 class\n",
        "# tp = จำนวนครั้งที่ model บอกว่ามีและมีจริงๆ\n",
        "# tn = จำนวนครั้งที่ model บอกว่าไม่มีและไม่มีจริงๆ\n",
        "# fp = (False Alarms) จำนวนครั้งที่ model บอกว่ามี แต่ไม่มีจริงๆ\n",
        "# fn = (Miss) จำนวนครั้งที่ model บอกว่าไม่มีแต่ มีจริงๆ\n",
        "\n",
        "# recall = tp/(tp+fn) % เปอร์เซ็นต์การเรียกได้\n",
        "# precision = tp/(tp+fn) % เปอร์เซ็นต์ความแม่นยำ\n",
        "# f1-score = ค่าเฉลี่ยฮาร์โมนิกของ recall/precision = 2/( (1/recall)+ (1/precision))"
      ],
      "metadata": {
        "id": "GQ_W0FDz1wma"
      },
      "execution_count": null,
      "outputs": []
    },
    {
      "cell_type": "code",
      "source": [
        "output = tf.keras.models.load_model(\"best_model.h5\")"
      ],
      "metadata": {
        "id": "6e6nu6YRErWO"
      },
      "execution_count": null,
      "outputs": []
    },
    {
      "cell_type": "code",
      "source": [
        "output = model.predict(test_images)\n",
        "detect = []\n",
        "for i in range(len(output)):\n",
        "  detect.append(np.argmax(output[i,:]))\n",
        "detect = np.array(detect)\n",
        "detect"
      ],
      "metadata": {
        "colab": {
          "base_uri": "https://localhost:8080/"
        },
        "id": "8KgUB_213qFY",
        "outputId": "3e4cf984-1fb3-4f11-c76c-2e71dcfd9f6d"
      },
      "execution_count": null,
      "outputs": [
        {
          "output_type": "stream",
          "name": "stdout",
          "text": [
            "313/313 [==============================] - 1s 2ms/step\n"
          ]
        },
        {
          "output_type": "execute_result",
          "data": {
            "text/plain": [
              "array([9, 2, 1, ..., 8, 1, 5])"
            ]
          },
          "metadata": {},
          "execution_count": 47
        }
      ]
    },
    {
      "cell_type": "code",
      "source": [
        "cfm = tf.math.confusion_matrix(test_labels, detect)\n",
        "cfm"
      ],
      "metadata": {
        "colab": {
          "base_uri": "https://localhost:8080/"
        },
        "id": "fK4xthSK4NPm",
        "outputId": "fa3bb280-ffae-4955-ceef-dae06c876544"
      },
      "execution_count": null,
      "outputs": [
        {
          "output_type": "execute_result",
          "data": {
            "text/plain": [
              "<tf.Tensor: shape=(10, 10), dtype=int32, numpy=\n",
              "array([[829,   0,  25,  17,   5,   3, 112,   0,   9,   0],\n",
              "       [  6, 966,   2,  18,   3,   0,   4,   0,   1,   0],\n",
              "       [ 10,   0, 846,  10,  58,   1,  73,   0,   2,   0],\n",
              "       [ 25,   0,  15, 897,  30,   1,  26,   0,   5,   1],\n",
              "       [  0,   1, 136,  27, 773,   0,  58,   0,   4,   1],\n",
              "       [  0,   0,   0,   1,   0, 965,   0,  17,   1,  16],\n",
              "       [134,   0,  99,  27,  59,   0, 668,   0,  13,   0],\n",
              "       [  0,   0,   0,   0,   0,  30,   0, 936,   0,  34],\n",
              "       [  1,   0,   8,   6,   0,   4,   5,   3, 972,   1],\n",
              "       [  0,   0,   0,   0,   0,   9,   1,  30,   0, 960]], dtype=int32)>"
            ]
          },
          "metadata": {},
          "execution_count": 48
        }
      ]
    },
    {
      "cell_type": "code",
      "source": [
        "print(\"-\"*114)\n",
        "print(f\"|{'class':^20}|{'TP':^10}|{'FP':^10}|{'FN':^10}|{'recall':^15}|{'precision (%)':^15}|{'F1 (%)':^15}|\")\n",
        "print(\"-\"*114)\n",
        "n_correct = 0\n",
        "for i in range(cfm.shape[0]):\n",
        "  tp = cfm[i,i]\n",
        "  fp = np.sum(cfm[:,i]) - tp\n",
        "  fn = np.sum(cfm[i,:]) - tp\n",
        "  tn = np.sum(cfm) - tp - fp - fn\n",
        "  n_correct += tp\n",
        "  recall = tp/(tp+fn)\n",
        "  precision = tp/(tp+fp)\n",
        "  f1 = 2/((1/recall)+ (1/precision))\n",
        "  print(f\"|{class_names[i]:^20}|{tp:^10}|{fp:^10}|{fn:^10}|{recall:^15.2f}|{precision*100:^15.2f}|{f1*100:^15.2f}|\")\n",
        "print(\"-\"*114)\n",
        "print(f\"overall accuracy = {n_correct*100/np.sum(cfm):.2f} %\")\n",
        "  "
      ],
      "metadata": {
        "colab": {
          "base_uri": "https://localhost:8080/"
        },
        "id": "w6R5bHlq6g9P",
        "outputId": "3ba39267-437b-4025-d20c-0a24968ae2f3"
      },
      "execution_count": null,
      "outputs": [
        {
          "output_type": "stream",
          "name": "stdout",
          "text": [
            "------------------------------------------------------------------------------------------------------------------\n",
            "|       class        |    TP    |    FP    |    FN    |    recall     | precision (%) |    F1 (%)     |\n",
            "------------------------------------------------------------------------------------------------------------------\n",
            "|    T-shirt/top     |   829    |   176    |   171    |     0.83      |     82.49     |     82.69     |\n",
            "|      Trouser       |   966    |    1     |    34    |     0.97      |     99.90     |     98.22     |\n",
            "|      Pullover      |   846    |   285    |   154    |     0.85      |     74.80     |     79.40     |\n",
            "|       Dress        |   897    |   106    |   103    |     0.90      |     89.43     |     89.57     |\n",
            "|        Coat        |   773    |   155    |   227    |     0.77      |     83.30     |     80.19     |\n",
            "|       Sandal       |   965    |    48    |    35    |     0.96      |     95.26     |     95.88     |\n",
            "|       Shirt        |   668    |   279    |   332    |     0.67      |     70.54     |     68.62     |\n",
            "|      Sneaker       |   936    |    50    |    64    |     0.94      |     94.93     |     94.26     |\n",
            "|        Bag         |   972    |    35    |    28    |     0.97      |     96.52     |     96.86     |\n",
            "|     Ankle boot     |   960    |    53    |    40    |     0.96      |     94.77     |     95.38     |\n",
            "------------------------------------------------------------------------------------------------------------------\n",
            "overall accuracy = 88.12 %\n"
          ]
        }
      ]
    },
    {
      "cell_type": "code",
      "source": [
        "#--------------------------------------------------------------------------------#"
      ],
      "metadata": {
        "id": "eojoN6b73flr"
      },
      "execution_count": null,
      "outputs": []
    },
    {
      "cell_type": "code",
      "source": [
        "output = model.predict(test_images)"
      ],
      "metadata": {
        "colab": {
          "base_uri": "https://localhost:8080/"
        },
        "id": "o3WFSCUf0MlA",
        "outputId": "ef3219f3-7257-4c77-afed-8178e033905a"
      },
      "execution_count": null,
      "outputs": [
        {
          "output_type": "stream",
          "name": "stdout",
          "text": [
            "313/313 [==============================] - 0s 1ms/step\n"
          ]
        }
      ]
    },
    {
      "cell_type": "code",
      "source": [
        "output.shape"
      ],
      "metadata": {
        "colab": {
          "base_uri": "https://localhost:8080/"
        },
        "id": "ss77uo8m0X6K",
        "outputId": "eb1734a9-c3cc-4c49-da4c-b5b1f7e078ec"
      },
      "execution_count": null,
      "outputs": [
        {
          "output_type": "execute_result",
          "data": {
            "text/plain": [
              "(10000, 10)"
            ]
          },
          "metadata": {},
          "execution_count": 21
        }
      ]
    },
    {
      "cell_type": "code",
      "source": [
        "class_names[np.argmax(output[1400,:])]"
      ],
      "metadata": {
        "colab": {
          "base_uri": "https://localhost:8080/",
          "height": 35
        },
        "id": "bPkgMbhF0vSG",
        "outputId": "aaae1062-c047-4042-c497-45a7cd68493a"
      },
      "execution_count": null,
      "outputs": [
        {
          "output_type": "execute_result",
          "data": {
            "text/plain": [
              "'Coat'"
            ],
            "application/vnd.google.colaboratory.intrinsic+json": {
              "type": "string"
            }
          },
          "metadata": {},
          "execution_count": 22
        }
      ]
    },
    {
      "cell_type": "code",
      "source": [
        "plt.imshow(train_images[1400, :, :],cmap='gray')"
      ],
      "metadata": {
        "colab": {
          "base_uri": "https://localhost:8080/",
          "height": 282
        },
        "id": "w_orI_uP1Sfk",
        "outputId": "a793dce9-a7e2-4aa7-bbee-5c6ceba80663"
      },
      "execution_count": null,
      "outputs": [
        {
          "output_type": "execute_result",
          "data": {
            "text/plain": [
              "<matplotlib.image.AxesImage at 0x7ff750212df0>"
            ]
          },
          "metadata": {},
          "execution_count": 23
        },
        {
          "output_type": "display_data",
          "data": {
            "text/plain": [
              "<Figure size 432x288 with 1 Axes>"
            ],
            "image/png": "[encoded data removed]"
          },
          "metadata": {
            "needs_background": "light"
          }
        }
      ]
    },
    {
      "cell_type": "code",
      "source": [],
      "metadata": {
        "id": "TJGvQhwY1SXO"
      },
      "execution_count": null,
      "outputs": []
    }
  ]
}